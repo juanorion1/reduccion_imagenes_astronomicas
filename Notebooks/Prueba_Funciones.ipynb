{
 "cells": [
  {
   "cell_type": "code",
   "execution_count": 2,
   "id": "52bd4de7-42c6-4b14-95b4-ce44f008e309",
   "metadata": {},
   "outputs": [],
   "source": [
    "import cv2 as cv\n",
    "import os\n",
    "from astropy.io import fits\n",
    "import numpy as np\n",
    "import matplotlib.pyplot as plt\n",
    "import pandas as pd\n",
    "from pathlib import Path, PurePosixPath\n"
   ]
  },
  {
   "cell_type": "code",
   "execution_count": 3,
   "id": "a58eabb0-b872-4362-bbf2-ee6c8888090c",
   "metadata": {},
   "outputs": [],
   "source": [
    "%load_ext autoreload\n",
    "%autoreload 2"
   ]
  },
  {
   "cell_type": "code",
   "execution_count": 4,
   "id": "a0e34681-a930-466e-800d-b2c4bcb31c00",
   "metadata": {},
   "outputs": [],
   "source": [
    "path = Path.cwd()\n",
    "assert path.parts[-1] == \"Notebooks\"\n"
   ]
  },
  {
   "cell_type": "markdown",
   "id": "5e75035d-d55a-4b1d-8d27-f02b1be75d09",
   "metadata": {},
   "source": [
    "## Cambio de directorio"
   ]
  },
  {
   "cell_type": "code",
   "execution_count": 5,
   "id": "a795e5f0-bf2c-4dc0-b5e1-f365bbb0d2a8",
   "metadata": {},
   "outputs": [],
   "source": [
    "new_path = path.parent\n",
    "os.chdir(new_path)"
   ]
  },
  {
   "cell_type": "code",
   "execution_count": null,
   "id": "e7281c53-0e27-43c7-a0fe-a095e238f480",
   "metadata": {},
   "outputs": [],
   "source": []
  },
  {
   "cell_type": "markdown",
   "id": "571af3cc-7a62-49cf-99d9-f73813ad9950",
   "metadata": {},
   "source": [
    "## Carga datos"
   ]
  },
  {
   "cell_type": "code",
   "execution_count": 6,
   "id": "83b1dae8-085a-4aee-81f0-cd9bda80a47d",
   "metadata": {},
   "outputs": [
    {
     "data": {
      "text/plain": [
       "[PosixPath('/home/juanorion/Repositorios/reduccion_imagenes_astronomicas/data/6.fits'),\n",
       " PosixPath('/home/juanorion/Repositorios/reduccion_imagenes_astronomicas/data/7.fits'),\n",
       " PosixPath('/home/juanorion/Repositorios/reduccion_imagenes_astronomicas/data/happiness_not_enough.png'),\n",
       " PosixPath('/home/juanorion/Repositorios/reduccion_imagenes_astronomicas/data/hst_08278_01_wfpc2_f555w_wf_drz.fits'),\n",
       " PosixPath('/home/juanorion/Repositorios/reduccion_imagenes_astronomicas/data/LReduced.fits'),\n",
       " PosixPath('/home/juanorion/Repositorios/reduccion_imagenes_astronomicas/data/media_files_STRIPE82-0007-3.8793636368877404--0.8015460191427091-200_R.fits.fz')]"
      ]
     },
     "execution_count": 6,
     "metadata": {},
     "output_type": "execute_result"
    }
   ],
   "source": [
    "data = \"data/\"\n",
    "imagenes = [new_path / data / imag for imag in (new_path / data).glob(\"**/*\")]\n",
    "imagenes"
   ]
  },
  {
   "cell_type": "code",
   "execution_count": 7,
   "id": "c0aa0faf-04c1-4daf-a963-f3ffbd4e3428",
   "metadata": {},
   "outputs": [],
   "source": [
    "# if img.astype(np.uint8).dtype == \"uint8\":\n",
    "#     print(\"ok\")"
   ]
  },
  {
   "cell_type": "code",
   "execution_count": 28,
   "id": "c2db388b-175b-40e2-bda5-e699a05a86c9",
   "metadata": {},
   "outputs": [
    {
     "name": "stdout",
     "output_type": "stream",
     "text": [
      "La cantidad porcentual de ceros en la imagen es de = 47%\n"
     ]
    }
   ],
   "source": [
    "with fits.open(imagenes[3]) as hdul:\n",
    "    try:\n",
    "        image = hdul[\"SCI\"].data\n",
    "        header = hdul[\"SCI\"].header\n",
    "        height = image.shape[0]\n",
    "        width = image.shape[1]\n",
    "    except KeyError:\n",
    "        image = hdul[0].data\n",
    "        header = hdul[0].header\n",
    "        height = image.shape[0]\n",
    "        width = image.shape[1]\n",
    "    \n",
    "## Verifying amount of zeros (mask)\n",
    "zeros_amount = [(vect==0).sum() for vect in image]\n",
    "porcentual_zeros = np.sum(zeros_amount) / (height*width)\n",
    "print(f\"La cantidad porcentual de ceros en la imagen es de = {int(porcentual_zeros*100)}%\")"
   ]
  },
  {
   "cell_type": "code",
   "execution_count": 34,
   "id": "14f4c731-d406-461d-b870-3909e23e0d3a",
   "metadata": {},
   "outputs": [
    {
     "data": {
      "text/plain": [
       "array([[0., 0., 0., ..., 0., 0., 0.],\n",
       "       [0., 0., 0., ..., 0., 0., 0.],\n",
       "       [0., 0., 0., ..., 0., 0., 0.],\n",
       "       ...,\n",
       "       [0., 0., 0., ..., 0., 0., 0.],\n",
       "       [0., 0., 0., ..., 0., 0., 0.],\n",
       "       [0., 0., 0., ..., 0., 0., 0.]], dtype=float32)"
      ]
     },
     "execution_count": 34,
     "metadata": {},
     "output_type": "execute_result"
    }
   ],
   "source": [
    "image.copy()"
   ]
  },
  {
   "cell_type": "code",
   "execution_count": 45,
   "id": "3937733d-0a4a-4bd8-a946-8f752fd235bb",
   "metadata": {},
   "outputs": [],
   "source": [
    "from src.imagen.load_image import LFI"
   ]
  },
  {
   "cell_type": "code",
   "execution_count": 46,
   "id": "bc818941-768a-4a8b-811b-1cbff6ed1473",
   "metadata": {},
   "outputs": [],
   "source": [
    "lfi = LFI(\"blue\")\n"
   ]
  },
  {
   "cell_type": "code",
   "execution_count": 47,
   "id": "3831d062-ab19-4bdc-b209-ec7fc5028241",
   "metadata": {},
   "outputs": [],
   "source": [
    "lfi.load_image(imagenes[3])"
   ]
  },
  {
   "cell_type": "code",
   "execution_count": 55,
   "id": "2cbb9e4d-a39a-46d7-8bd2-bbb324e81f13",
   "metadata": {},
   "outputs": [
    {
     "data": {
      "text/plain": [
       "PosixPath('/home/juanorion/Repositorios/reduccion_imagenes_astronomicas/data/hst_08278_01_wfpc2_f555w_wf_drz.fits')"
      ]
     },
     "execution_count": 55,
     "metadata": {},
     "output_type": "execute_result"
    }
   ],
   "source": [
    "lfi.path_image"
   ]
  },
  {
   "cell_type": "code",
   "execution_count": 13,
   "id": "55d5a6b4-d526-4cfe-80de-afb2b22f53d8",
   "metadata": {},
   "outputs": [
    {
     "name": "stdout",
     "output_type": "stream",
     "text": [
      "hst_08278_01_wfpc2_f555w_wf_drz.fits\n"
     ]
    }
   ],
   "source": [
    "lfi.visualize_image()"
   ]
  },
  {
   "cell_type": "code",
   "execution_count": 138,
   "id": "82f991da-d222-4f00-b0f3-0cb0e9e885db",
   "metadata": {},
   "outputs": [],
   "source": [
    "from astropy.wcs import WCS\n",
    "w = WCS(header)\n",
    "sky = w.pixel_to_world(311,1110)\n"
   ]
  },
  {
   "cell_type": "code",
   "execution_count": null,
   "id": "773b7257-45d0-4955-9396-60b97fa998ed",
   "metadata": {},
   "outputs": [],
   "source": []
  },
  {
   "cell_type": "code",
   "execution_count": 146,
   "id": "c3262c73-9e44-4d93-9ced-8b21e4742825",
   "metadata": {},
   "outputs": [
    {
     "name": "stdout",
     "output_type": "stream",
     "text": [
      "['EVENT_FLAG_ALTKEY', 'EVENT_FLAG_CTRLKEY', 'EVENT_FLAG_LBUTTON', 'EVENT_FLAG_MBUTTON', 'EVENT_FLAG_RBUTTON', 'EVENT_FLAG_SHIFTKEY', 'EVENT_LBUTTONDBLCLK', 'EVENT_LBUTTONDOWN', 'EVENT_LBUTTONUP', 'EVENT_MBUTTONDBLCLK', 'EVENT_MBUTTONDOWN', 'EVENT_MBUTTONUP', 'EVENT_MOUSEHWHEEL', 'EVENT_MOUSEMOVE', 'EVENT_MOUSEWHEEL', 'EVENT_RBUTTONDBLCLK', 'EVENT_RBUTTONDOWN', 'EVENT_RBUTTONUP']\n"
     ]
    }
   ],
   "source": [
    "events = [i for i in dir(cv) if 'EVENT' in i]\n",
    "print( events )"
   ]
  },
  {
   "cell_type": "code",
   "execution_count": 148,
   "id": "8789a9e6-0fb1-49ac-a762-ae7ff07f2339",
   "metadata": {},
   "outputs": [
    {
     "data": {
      "text/plain": [
       "\u001b[0;31mType:\u001b[0m        int\n",
       "\u001b[0;31mString form:\u001b[0m 32\n",
       "\u001b[0;31mDocstring:\u001b[0m  \n",
       "int([x]) -> integer\n",
       "int(x, base=10) -> integer\n",
       "\n",
       "Convert a number or string to an integer, or return 0 if no arguments\n",
       "are given.  If x is a number, return x.__int__().  For floating point\n",
       "numbers, this truncates towards zero.\n",
       "\n",
       "If x is not a number or if base is given, then x must be a string,\n",
       "bytes, or bytearray instance representing an integer literal in the\n",
       "given base.  The literal can be preceded by '+' or '-' and be surrounded\n",
       "by whitespace.  The base defaults to 10.  Valid bases are 0 and 2-36.\n",
       "Base 0 means to interpret the base from the string as an integer literal.\n",
       ">>> int('0b100', base=0)\n",
       "4\n"
      ]
     },
     "metadata": {},
     "output_type": "display_data"
    }
   ],
   "source": [
    "cv.EVENT_FLAG_ALTKEY?"
   ]
  },
  {
   "cell_type": "code",
   "execution_count": 32,
   "id": "0c83726a-47e6-4b17-8c51-4e7c995d0393",
   "metadata": {},
   "outputs": [
    {
     "data": {
      "text/plain": [
       "dtype('>f4')"
      ]
     },
     "execution_count": 32,
     "metadata": {},
     "output_type": "execute_result"
    }
   ],
   "source": []
  },
  {
   "cell_type": "code",
   "execution_count": 30,
   "id": "f0775822-da07-48f0-92fd-53f0b8edcb0d",
   "metadata": {},
   "outputs": [
    {
     "data": {
      "text/plain": [
       "\u001b[0;31mDocstring:\u001b[0m\n",
       "colorChange(src, mask[, dst[, red_mul[, green_mul[, blue_mul]]]]) -> dst\n",
       ".   @brief Given an original color image, two differently colored versions of this image can be mixed\n",
       ".   seamlessly.\n",
       ".   \n",
       ".   @param src Input 8-bit 3-channel image.\n",
       ".   @param mask Input 8-bit 1 or 3-channel image.\n",
       ".   @param dst Output image with the same size and type as src .\n",
       ".   @param red_mul R-channel multiply factor.\n",
       ".   @param green_mul G-channel multiply factor.\n",
       ".   @param blue_mul B-channel multiply factor.\n",
       ".   \n",
       ".   Multiplication factor is between .5 to 2.5.\n",
       "\u001b[0;31mType:\u001b[0m      builtin_function_or_method\n"
      ]
     },
     "metadata": {},
     "output_type": "display_data"
    }
   ],
   "source": [
    "cv.COLOR_GRAY2BGR"
   ]
  },
  {
   "cell_type": "code",
   "execution_count": 30,
   "id": "ffe7bb5e-6df0-49c5-a054-d7b91727ad15",
   "metadata": {},
   "outputs": [],
   "source": [
    "a = img[0]\n",
    "b = img[1]\n",
    "c = img[2]\n",
    "d = img[3]\n",
    "w = np.dot(a,b)"
   ]
  },
  {
   "cell_type": "code",
   "execution_count": 34,
   "id": "963fe1e6-6ee9-40cb-a3a9-1d228243a00a",
   "metadata": {},
   "outputs": [
    {
     "data": {
      "text/plain": [
       "<matplotlib.image.AxesImage at 0x7fd0853c99a0>"
      ]
     },
     "execution_count": 34,
     "metadata": {},
     "output_type": "execute_result"
    },
    {
     "data": {
      "image/png": "[encoded data removed]",
      "text/plain": [
       "<Figure size 432x288 with 1 Axes>"
      ]
     },
     "metadata": {
      "needs_background": "light"
     },
     "output_type": "display_data"
    }
   ],
   "source": [
    "[matrix f]"
   ]
  },
  {
   "cell_type": "code",
   "execution_count": null,
   "id": "0a999faa-3cff-493a-8935-e645951cae01",
   "metadata": {},
   "outputs": [],
   "source": [
    "#cv.imshow(\"imagen\", img)\n",
    "#key = cv.waitKey(0)\n",
    "#if key == ord(\"q\"):\n",
    "#    cv.destroyAllWindows()"
   ]
  },
  {
   "cell_type": "code",
   "execution_count": null,
   "id": "ede16582-e747-49f1-ab15-df9363c86a60",
   "metadata": {},
   "outputs": [],
   "source": [
    "plt.imshow(img.data)\n"
   ]
  },
  {
   "cell_type": "code",
   "execution_count": null,
   "id": "46a7a953-5dae-467e-b0f2-1c632aeb7390",
   "metadata": {},
   "outputs": [],
   "source": [
    "print(f\"{imagenes[0].split(\"/\")[-1]}\")"
   ]
  },
  {
   "cell_type": "code",
   "execution_count": null,
   "id": "706b3e27-ca4f-42ef-ad45-815e9ddc5fee",
   "metadata": {},
   "outputs": [],
   "source": [
    "imagenes[0].split(\"/\")[-1]"
   ]
  },
  {
   "cell_type": "code",
   "execution_count": null,
   "id": "7ab852b1-cf33-4dba-afca-38f42dac4c1f",
   "metadata": {},
   "outputs": [],
   "source": []
  },
  {
   "cell_type": "code",
   "execution_count": null,
   "id": "662839f6-9ac7-404b-9701-85e158485724",
   "metadata": {},
   "outputs": [],
   "source": []
  },
  {
   "cell_type": "markdown",
   "id": "6aeb3da2-bda1-41f0-87ff-8b4486f29ba8",
   "metadata": {},
   "source": [
    "## Cargando imagenes"
   ]
  },
  {
   "cell_type": "code",
   "execution_count": null,
   "id": "c94a5eec-5472-4d0b-8b1d-419e5b820bda",
   "metadata": {},
   "outputs": [],
   "source": []
  },
  {
   "cell_type": "code",
   "execution_count": null,
   "id": "9143486c-e8b6-42e7-af93-168a93e65771",
   "metadata": {},
   "outputs": [],
   "source": []
  }
 ],
 "metadata": {
  "kernelspec": {
   "display_name": "Python 3 (ipykernel)",
   "language": "python",
   "name": "python3"
  },
  "language_info": {
   "codemirror_mode": {
    "name": "ipython",
    "version": 3
   },
   "file_extension": ".py",
   "mimetype": "text/x-python",
   "name": "python",
   "nbconvert_exporter": "python",
   "pygments_lexer": "ipython3",
   "version": "3.8.13"
  }
 },
 "nbformat": 4,
 "nbformat_minor": 5
}
