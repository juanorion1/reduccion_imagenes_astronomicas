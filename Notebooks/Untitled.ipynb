{
 "cells": [
  {
   "cell_type": "code",
   "execution_count": 1,
   "id": "52bd4de7-42c6-4b14-95b4-ce44f008e309",
   "metadata": {},
   "outputs": [],
   "source": [
    "import cv2 as cv\n",
    "import os\n",
    "from astropy.io import fits\n",
    "import numpy as np\n",
    "import matplotlib.pyplot as plt"
   ]
  },
  {
   "cell_type": "code",
   "execution_count": null,
   "id": "a58eabb0-b872-4362-bbf2-ee6c8888090c",
   "metadata": {},
   "outputs": [],
   "source": []
  },
  {
   "cell_type": "code",
   "execution_count": 2,
   "id": "a0e34681-a930-466e-800d-b2c4bcb31c00",
   "metadata": {},
   "outputs": [],
   "source": [
    "path = os.getcwd()\n",
    "assert path.split(\"/\")[-1] == \"Notebooks\""
   ]
  },
  {
   "cell_type": "markdown",
   "id": "5e75035d-d55a-4b1d-8d27-f02b1be75d09",
   "metadata": {},
   "source": [
    "## Cambio de directorio"
   ]
  },
  {
   "cell_type": "code",
   "execution_count": 3,
   "id": "a795e5f0-bf2c-4dc0-b5e1-f365bbb0d2a8",
   "metadata": {},
   "outputs": [],
   "source": [
    "new_path = path.split(\"Notebooks\")[0]\n",
    "os.chdir(new_path)"
   ]
  },
  {
   "cell_type": "markdown",
   "id": "571af3cc-7a62-49cf-99d9-f73813ad9950",
   "metadata": {},
   "source": [
    "## Carga datos"
   ]
  },
  {
   "cell_type": "code",
   "execution_count": 12,
   "id": "83b1dae8-085a-4aee-81f0-cd9bda80a47d",
   "metadata": {},
   "outputs": [
    {
     "data": {
      "text/plain": [
       "['/home/juanorion/Repositorios/reduccion_imagenes_astronomicas/data/6.fits',\n",
       " '/home/juanorion/Repositorios/reduccion_imagenes_astronomicas/data/7.fits',\n",
       " '/home/juanorion/Repositorios/reduccion_imagenes_astronomicas/data/happiness_not_enough.png',\n",
       " '/home/juanorion/Repositorios/reduccion_imagenes_astronomicas/data/hst_08278_01_wfpc2_f555w_wf_drz.fits',\n",
       " '/home/juanorion/Repositorios/reduccion_imagenes_astronomicas/data/LReduced.fits',\n",
       " '/home/juanorion/Repositorios/reduccion_imagenes_astronomicas/data/media_files_STRIPE82-0007-3.8793636368877404--0.8015460191427091-200_R.fits.fz']"
      ]
     },
     "execution_count": 12,
     "metadata": {},
     "output_type": "execute_result"
    }
   ],
   "source": [
    "data = \"data/\"\n",
    "imagenes = [new_path+data+imag for imag in os.listdir(\"./\"+data)]\n",
    "imagenes"
   ]
  },
  {
   "cell_type": "code",
   "execution_count": 5,
   "id": "c2db388b-175b-40e2-bda5-e699a05a86c9",
   "metadata": {},
   "outputs": [],
   "source": [
    "with fits.open(imagenes[3]) as hdul:\n",
    "    img = hdul[0].data\n",
    "\n",
    "cv.imshow(\"imagen\", img)\n",
    "key = cv.waitKey(0)\n",
    "if key == ord(\"q\"):\n",
    "    cv.destroyAllWindows()"
   ]
  },
  {
   "cell_type": "code",
   "execution_count": 6,
   "id": "0a999faa-3cff-493a-8935-e645951cae01",
   "metadata": {},
   "outputs": [],
   "source": [
    "cv.imshow(\"imagen\", img)\n",
    "key = cv.waitKey(0)\n",
    "if key == ord(\"q\"):\n",
    "    cv.destroyAllWindows()"
   ]
  },
  {
   "cell_type": "code",
   "execution_count": null,
   "id": "ede16582-e747-49f1-ab15-df9363c86a60",
   "metadata": {},
   "outputs": [],
   "source": [
    "plt.imshow(img.data)\n"
   ]
  },
  {
   "cell_type": "code",
   "execution_count": 10,
   "id": "46a7a953-5dae-467e-b0f2-1c632aeb7390",
   "metadata": {},
   "outputs": [
    {
     "ename": "SyntaxError",
     "evalue": "f-string: unmatched '(' (1356260284.py, line 1)",
     "output_type": "error",
     "traceback": [
      "\u001b[0;36m  Input \u001b[0;32mIn [10]\u001b[0;36m\u001b[0m\n\u001b[0;31m    print(f\"{imagenes[0].split(\"/\")[-1]}\")\u001b[0m\n\u001b[0m          ^\u001b[0m\n\u001b[0;31mSyntaxError\u001b[0m\u001b[0;31m:\u001b[0m f-string: unmatched '('\n"
     ]
    }
   ],
   "source": [
    "print(f\"{imagenes[0].split(\"/\")[-1]}\")"
   ]
  },
  {
   "cell_type": "code",
   "execution_count": 11,
   "id": "706b3e27-ca4f-42ef-ad45-815e9ddc5fee",
   "metadata": {},
   "outputs": [
    {
     "data": {
      "text/plain": [
       "'6.fits'"
      ]
     },
     "execution_count": 11,
     "metadata": {},
     "output_type": "execute_result"
    }
   ],
   "source": [
    "imagenes[0].split(\"/\")[-1]"
   ]
  },
  {
   "cell_type": "code",
   "execution_count": null,
   "id": "7ab852b1-cf33-4dba-afca-38f42dac4c1f",
   "metadata": {},
   "outputs": [],
   "source": []
  },
  {
   "cell_type": "code",
   "execution_count": null,
   "id": "662839f6-9ac7-404b-9701-85e158485724",
   "metadata": {},
   "outputs": [],
   "source": []
  },
  {
   "cell_type": "markdown",
   "id": "6aeb3da2-bda1-41f0-87ff-8b4486f29ba8",
   "metadata": {},
   "source": [
    "## Cargando imagenes"
   ]
  },
  {
   "cell_type": "code",
   "execution_count": null,
   "id": "c94a5eec-5472-4d0b-8b1d-419e5b820bda",
   "metadata": {},
   "outputs": [],
   "source": [
    "img."
   ]
  },
  {
   "cell_type": "code",
   "execution_count": null,
   "id": "9143486c-e8b6-42e7-af93-168a93e65771",
   "metadata": {},
   "outputs": [],
   "source": []
  }
 ],
 "metadata": {
  "kernelspec": {
   "display_name": "Python 3 (ipykernel)",
   "language": "python",
   "name": "python3"
  },
  "language_info": {
   "codemirror_mode": {
    "name": "ipython",
    "version": 3
   },
   "file_extension": ".py",
   "mimetype": "text/x-python",
   "name": "python",
   "nbconvert_exporter": "python",
   "pygments_lexer": "ipython3",
   "version": "3.8.13"
  }
 },
 "nbformat": 4,
 "nbformat_minor": 5
}
